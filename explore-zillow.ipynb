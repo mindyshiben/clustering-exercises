{
 "cells": [
  {
   "cell_type": "markdown",
   "id": "2d93c21c",
   "metadata": {},
   "source": [
    "## Zillow Clustering Exercises"
   ]
  },
  {
   "cell_type": "code",
   "execution_count": 1,
   "id": "63d86622",
   "metadata": {},
   "outputs": [],
   "source": [
    "# Imports necessary to acquire, prepare, explore, visualize, analyze, and model data\n",
    "\n",
    "import warnings\n",
    "warnings.filterwarnings(\"ignore\")\n",
    "\n",
    "import pandas as pd\n",
    "import matplotlib.pyplot as plt\n",
    "import seaborn as sns\n",
    "import numpy as np\n",
    "import env\n",
    "import acquire\n",
    "import prepare\n",
    "\n",
    "from tabulate import tabulate\n",
    "from IPython.display import Markdown, display\n",
    "\n",
    "from math import sqrt\n",
    "from scipy import stats\n",
    "\n",
    "import sklearn.preprocessing\n",
    "from sklearn.model_selection import train_test_split\n",
    "from scipy.stats import pearsonr, spearmanr\n",
    "\n",
    "from sklearn.metrics import mean_squared_error\n",
    "from sklearn.linear_model import LinearRegression, LassoLars, TweedieRegressor\n",
    "from sklearn.preprocessing import PolynomialFeatures\n",
    "from sklearn.impute import SimpleImputer\n",
    "\n",
    "np.random.seed(123)"
   ]
  },
  {
   "cell_type": "markdown",
   "id": "92424774",
   "metadata": {},
   "source": [
    "### Acquire & Summarize "
   ]
  },
  {
   "cell_type": "code",
   "execution_count": 2,
   "id": "1f88d786",
   "metadata": {},
   "outputs": [],
   "source": [
    "df = acquire.get_zillow_data()\n",
    "# this is a user-defined function in acquire.py that pulls in selected data from the SQL database"
   ]
  },
  {
   "cell_type": "code",
   "execution_count": 3,
   "id": "4ec2f7e8",
   "metadata": {},
   "outputs": [
    {
     "name": "stdout",
     "output_type": "stream",
     "text": [
      "<class 'pandas.core.frame.DataFrame'>\n",
      "RangeIndex: 52441 entries, 0 to 52440\n",
      "Data columns (total 11 columns):\n",
      " #   Column                        Non-Null Count  Dtype  \n",
      "---  ------                        --------------  -----  \n",
      " 0   parcelid                      52441 non-null  int64  \n",
      " 1   logerror                      52441 non-null  float64\n",
      " 2   transactiondate               52441 non-null  object \n",
      " 3   taxvaluedollarcnt             52440 non-null  float64\n",
      " 4   bedroomcnt                    52441 non-null  float64\n",
      " 5   bathroomcnt                   52441 non-null  float64\n",
      " 6   yearbuilt                     52325 non-null  float64\n",
      " 7   fips                          52441 non-null  float64\n",
      " 8   calculatedfinishedsquarefeet  52359 non-null  float64\n",
      " 9   latitude                      52441 non-null  float64\n",
      " 10  longitude                     52441 non-null  float64\n",
      "dtypes: float64(9), int64(1), object(1)\n",
      "memory usage: 4.4+ MB\n"
     ]
    }
   ],
   "source": [
    "df.info()\n",
    "\n",
    "# 52441 before wrangling"
   ]
  },
  {
   "cell_type": "code",
   "execution_count": 4,
   "id": "d9cef6bf",
   "metadata": {},
   "outputs": [
    {
     "data": {
      "text/plain": [
       "0.0037947407562784843"
      ]
     },
     "execution_count": 4,
     "metadata": {},
     "output_type": "execute_result"
    }
   ],
   "source": [
    "df.isna().sum().sum() /len(df)\n",
    "# returns percentage of nulls in df"
   ]
  },
  {
   "cell_type": "code",
   "execution_count": 5,
   "id": "6b7ad635",
   "metadata": {},
   "outputs": [
    {
     "data": {
      "image/png": "[encoded data removed]",
      "text/plain": [
       "<Figure size 576x432 with 2 Axes>"
      ]
     },
     "metadata": {
      "needs_background": "light"
     },
     "output_type": "display_data"
    }
   ],
   "source": [
    "f, axes = plt.subplots(nrows=1, ncols=2, figsize = (8, 6))\n",
    "# sets parameters of graphs\n",
    "\n",
    "sns.boxplot(data=df.bedroomcnt,  orient='v' , ax=axes[0]).set(title='Bedroom Counts')\n",
    "sns.boxplot(data=df.bathroomcnt,  orient='v' , ax=axes[1]).set(title = 'Bathroom Counts')\n",
    "\n",
    "plt.show()"
   ]
  },
  {
   "cell_type": "code",
   "execution_count": 6,
   "id": "2b44320b",
   "metadata": {},
   "outputs": [
    {
     "data": {
      "image/png": "[encoded data removed]",
      "text/plain": [
       "<Figure size 432x288 with 1 Axes>"
      ]
     },
     "metadata": {
      "needs_background": "light"
     },
     "output_type": "display_data"
    }
   ],
   "source": [
    "figsize = (8, 6)\n",
    "\n",
    "sns.boxplot(data=df.yearbuilt,  orient='v').set(title = 'Year Built')\n",
    "\n",
    "plt.show()"
   ]
  },
  {
   "cell_type": "code",
   "execution_count": 7,
   "id": "57d20e10",
   "metadata": {},
   "outputs": [
    {
     "data": {
      "image/png": "[encoded data removed]",
      "text/plain": [
       "<Figure size 432x288 with 1 Axes>"
      ]
     },
     "metadata": {
      "needs_background": "light"
     },
     "output_type": "display_data"
    }
   ],
   "source": [
    "figsize = (8, 6)\n",
    "\n",
    "sns.boxplot(data=df.logerror,  orient='v').set(title = 'Log Error')\n",
    "\n",
    "plt.show()"
   ]
  },
  {
   "cell_type": "code",
   "execution_count": 8,
   "id": "dee24dc2",
   "metadata": {},
   "outputs": [
    {
     "data": {
      "text/plain": [
       "(array([2.0000e+00, 0.0000e+00, 2.6000e+01, 1.0900e+02, 5.0948e+04,\n",
       "        1.2210e+03, 7.6000e+01, 5.7000e+01, 1.0000e+00, 1.0000e+00]),\n",
       " array([-4.65542038, -3.66357847, -2.67173657, -1.67989467, -0.68805277,\n",
       "         0.30378914,  1.29563104,  2.28747294,  3.27931484,  4.27115675,\n",
       "         5.26299865]),\n",
       " <BarContainer object of 10 artists>)"
      ]
     },
     "execution_count": 8,
     "metadata": {},
     "output_type": "execute_result"
    },
    {
     "data": {
      "image/png": "[encoded data removed]",
      "text/plain": [
       "<Figure size 432x288 with 1 Axes>"
      ]
     },
     "metadata": {
      "needs_background": "light"
     },
     "output_type": "display_data"
    }
   ],
   "source": [
    "plt.hist(df.logerror)"
   ]
  },
  {
   "cell_type": "code",
   "execution_count": 9,
   "id": "dc649a01",
   "metadata": {},
   "outputs": [
    {
     "data": {
      "text/plain": [
       "(0.5479474460907992, -0.32637269461880003)"
      ]
     },
     "execution_count": 9,
     "metadata": {},
     "output_type": "execute_result"
    }
   ],
   "source": [
    "df.logerror.quantile(.99), df.logerror.quantile(.01)\n",
    "#will use in addition to visual to help remove outliers for now"
   ]
  },
  {
   "cell_type": "code",
   "execution_count": 10,
   "id": "5fed5776",
   "metadata": {},
   "outputs": [
    {
     "data": {
      "image/png": "[encoded data removed]",
      "text/plain": [
       "<Figure size 432x288 with 1 Axes>"
      ]
     },
     "metadata": {
      "needs_background": "light"
     },
     "output_type": "display_data"
    }
   ],
   "source": [
    "figsize = (8, 6)\n",
    "\n",
    "sns.boxplot(data=df.calculatedfinishedsquarefeet,  orient='v').set(title = 'Size')\n",
    "\n",
    "plt.show()"
   ]
  },
  {
   "cell_type": "code",
   "execution_count": 11,
   "id": "b9a6a7ed",
   "metadata": {},
   "outputs": [
    {
     "data": {
      "text/plain": [
       "(5500.0, 694.58)"
      ]
     },
     "execution_count": 11,
     "metadata": {},
     "output_type": "execute_result"
    }
   ],
   "source": [
    "df.calculatedfinishedsquarefeet.quantile(.99), df.calculatedfinishedsquarefeet.quantile(.01)"
   ]
  },
  {
   "cell_type": "code",
   "execution_count": 12,
   "id": "8b9ef80b",
   "metadata": {},
   "outputs": [
    {
     "data": {
      "image/png": "[encoded data removed]",
      "text/plain": [
       "<Figure size 432x288 with 1 Axes>"
      ]
     },
     "metadata": {
      "needs_background": "light"
     },
     "output_type": "display_data"
    }
   ],
   "source": [
    "figsize = (8, 6)\n",
    "\n",
    "sns.boxplot(data=df.taxvaluedollarcnt,  orient='v').set(title = 'Size')\n",
    "\n",
    "plt.show()"
   ]
  },
  {
   "cell_type": "markdown",
   "id": "5dcbcacf",
   "metadata": {},
   "source": [
    "### Decisions-\n",
    "- Nulls: Bc the % of nulls is incredibly low, dropping all null records will be part of the data prep\n",
    "- datatypes- taxvaluedollarcnt, yearbuilt, fips, squarefeet can be converted to int\n",
    "- lat and long forms need to be corrected\n",
    "- rename columns\n",
    "- other decisions in prepare function"
   ]
  },
  {
   "cell_type": "code",
   "execution_count": 13,
   "id": "d775dff8",
   "metadata": {},
   "outputs": [],
   "source": [
    "df = prepare.prepare_zillow(df)"
   ]
  },
  {
   "cell_type": "code",
   "execution_count": 14,
   "id": "8684e15a",
   "metadata": {},
   "outputs": [
    {
     "data": {
      "text/html": [
       "<div>\n",
       "<style scoped>\n",
       "    .dataframe tbody tr th:only-of-type {\n",
       "        vertical-align: middle;\n",
       "    }\n",
       "\n",
       "    .dataframe tbody tr th {\n",
       "        vertical-align: top;\n",
       "    }\n",
       "\n",
       "    .dataframe thead th {\n",
       "        text-align: right;\n",
       "    }\n",
       "</style>\n",
       "<table border=\"1\" class=\"dataframe\">\n",
       "  <thead>\n",
       "    <tr style=\"text-align: right;\">\n",
       "      <th></th>\n",
       "      <th>parcelid</th>\n",
       "      <th>log_error</th>\n",
       "      <th>transaction_date</th>\n",
       "      <th>tax_value</th>\n",
       "      <th>bedrooms</th>\n",
       "      <th>bathrooms</th>\n",
       "      <th>year_built</th>\n",
       "      <th>fips</th>\n",
       "      <th>square_feet</th>\n",
       "      <th>latitude</th>\n",
       "      <th>longitude</th>\n",
       "      <th>county</th>\n",
       "    </tr>\n",
       "  </thead>\n",
       "  <tbody>\n",
       "    <tr>\n",
       "      <th>0</th>\n",
       "      <td>14297519</td>\n",
       "      <td>0.025595</td>\n",
       "      <td>2017-01-01</td>\n",
       "      <td>1023282</td>\n",
       "      <td>4.0</td>\n",
       "      <td>3.5</td>\n",
       "      <td>1998</td>\n",
       "      <td>6059</td>\n",
       "      <td>3100</td>\n",
       "      <td>33634931.0</td>\n",
       "      <td>-117869207.0</td>\n",
       "      <td>orange</td>\n",
       "    </tr>\n",
       "    <tr>\n",
       "      <th>1</th>\n",
       "      <td>17052889</td>\n",
       "      <td>0.055619</td>\n",
       "      <td>2017-01-01</td>\n",
       "      <td>464000</td>\n",
       "      <td>2.0</td>\n",
       "      <td>1.0</td>\n",
       "      <td>1967</td>\n",
       "      <td>6111</td>\n",
       "      <td>1465</td>\n",
       "      <td>34449266.0</td>\n",
       "      <td>-119281531.0</td>\n",
       "      <td>ventura</td>\n",
       "    </tr>\n",
       "    <tr>\n",
       "      <th>2</th>\n",
       "      <td>14186244</td>\n",
       "      <td>0.005383</td>\n",
       "      <td>2017-01-01</td>\n",
       "      <td>564778</td>\n",
       "      <td>3.0</td>\n",
       "      <td>2.0</td>\n",
       "      <td>1962</td>\n",
       "      <td>6059</td>\n",
       "      <td>1243</td>\n",
       "      <td>33886168.0</td>\n",
       "      <td>-117823170.0</td>\n",
       "      <td>orange</td>\n",
       "    </tr>\n",
       "    <tr>\n",
       "      <th>3</th>\n",
       "      <td>12177905</td>\n",
       "      <td>-0.103410</td>\n",
       "      <td>2017-01-01</td>\n",
       "      <td>145143</td>\n",
       "      <td>4.0</td>\n",
       "      <td>3.0</td>\n",
       "      <td>1970</td>\n",
       "      <td>6037</td>\n",
       "      <td>2376</td>\n",
       "      <td>34245180.0</td>\n",
       "      <td>-118240722.0</td>\n",
       "      <td>los_angeles</td>\n",
       "    </tr>\n",
       "    <tr>\n",
       "      <th>4</th>\n",
       "      <td>12095076</td>\n",
       "      <td>-0.001011</td>\n",
       "      <td>2017-01-01</td>\n",
       "      <td>773303</td>\n",
       "      <td>4.0</td>\n",
       "      <td>3.0</td>\n",
       "      <td>1950</td>\n",
       "      <td>6037</td>\n",
       "      <td>2962</td>\n",
       "      <td>34145202.0</td>\n",
       "      <td>-118179824.0</td>\n",
       "      <td>los_angeles</td>\n",
       "    </tr>\n",
       "    <tr>\n",
       "      <th>...</th>\n",
       "      <td>...</td>\n",
       "      <td>...</td>\n",
       "      <td>...</td>\n",
       "      <td>...</td>\n",
       "      <td>...</td>\n",
       "      <td>...</td>\n",
       "      <td>...</td>\n",
       "      <td>...</td>\n",
       "      <td>...</td>\n",
       "      <td>...</td>\n",
       "      <td>...</td>\n",
       "      <td>...</td>\n",
       "    </tr>\n",
       "    <tr>\n",
       "      <th>52436</th>\n",
       "      <td>12412492</td>\n",
       "      <td>0.001082</td>\n",
       "      <td>2017-09-19</td>\n",
       "      <td>346534</td>\n",
       "      <td>4.0</td>\n",
       "      <td>2.0</td>\n",
       "      <td>1962</td>\n",
       "      <td>6037</td>\n",
       "      <td>1633</td>\n",
       "      <td>33870815.0</td>\n",
       "      <td>-118070858.0</td>\n",
       "      <td>los_angeles</td>\n",
       "    </tr>\n",
       "    <tr>\n",
       "      <th>52437</th>\n",
       "      <td>11000655</td>\n",
       "      <td>0.020615</td>\n",
       "      <td>2017-09-20</td>\n",
       "      <td>354621</td>\n",
       "      <td>2.0</td>\n",
       "      <td>2.0</td>\n",
       "      <td>1940</td>\n",
       "      <td>6037</td>\n",
       "      <td>1286</td>\n",
       "      <td>34245368.0</td>\n",
       "      <td>-118282383.0</td>\n",
       "      <td>los_angeles</td>\n",
       "    </tr>\n",
       "    <tr>\n",
       "      <th>52438</th>\n",
       "      <td>17239384</td>\n",
       "      <td>0.013209</td>\n",
       "      <td>2017-09-21</td>\n",
       "      <td>67205</td>\n",
       "      <td>4.0</td>\n",
       "      <td>2.0</td>\n",
       "      <td>1964</td>\n",
       "      <td>6111</td>\n",
       "      <td>1612</td>\n",
       "      <td>34300140.0</td>\n",
       "      <td>-118706327.0</td>\n",
       "      <td>ventura</td>\n",
       "    </tr>\n",
       "    <tr>\n",
       "      <th>52439</th>\n",
       "      <td>12773139</td>\n",
       "      <td>0.037129</td>\n",
       "      <td>2017-09-21</td>\n",
       "      <td>49546</td>\n",
       "      <td>3.0</td>\n",
       "      <td>1.0</td>\n",
       "      <td>1954</td>\n",
       "      <td>6037</td>\n",
       "      <td>1032</td>\n",
       "      <td>34040895.0</td>\n",
       "      <td>-118038169.0</td>\n",
       "      <td>los_angeles</td>\n",
       "    </tr>\n",
       "    <tr>\n",
       "      <th>52440</th>\n",
       "      <td>12826780</td>\n",
       "      <td>0.007204</td>\n",
       "      <td>2017-09-25</td>\n",
       "      <td>522000</td>\n",
       "      <td>3.0</td>\n",
       "      <td>2.0</td>\n",
       "      <td>1955</td>\n",
       "      <td>6037</td>\n",
       "      <td>1762</td>\n",
       "      <td>33937685.0</td>\n",
       "      <td>-117996709.0</td>\n",
       "      <td>los_angeles</td>\n",
       "    </tr>\n",
       "  </tbody>\n",
       "</table>\n",
       "<p>47981 rows × 12 columns</p>\n",
       "</div>"
      ],
      "text/plain": [
       "       parcelid  log_error transaction_date  tax_value  bedrooms  bathrooms  \\\n",
       "0      14297519   0.025595       2017-01-01    1023282       4.0        3.5   \n",
       "1      17052889   0.055619       2017-01-01     464000       2.0        1.0   \n",
       "2      14186244   0.005383       2017-01-01     564778       3.0        2.0   \n",
       "3      12177905  -0.103410       2017-01-01     145143       4.0        3.0   \n",
       "4      12095076  -0.001011       2017-01-01     773303       4.0        3.0   \n",
       "...         ...        ...              ...        ...       ...        ...   \n",
       "52436  12412492   0.001082       2017-09-19     346534       4.0        2.0   \n",
       "52437  11000655   0.020615       2017-09-20     354621       2.0        2.0   \n",
       "52438  17239384   0.013209       2017-09-21      67205       4.0        2.0   \n",
       "52439  12773139   0.037129       2017-09-21      49546       3.0        1.0   \n",
       "52440  12826780   0.007204       2017-09-25     522000       3.0        2.0   \n",
       "\n",
       "       year_built  fips  square_feet    latitude    longitude       county  \n",
       "0            1998  6059         3100  33634931.0 -117869207.0       orange  \n",
       "1            1967  6111         1465  34449266.0 -119281531.0      ventura  \n",
       "2            1962  6059         1243  33886168.0 -117823170.0       orange  \n",
       "3            1970  6037         2376  34245180.0 -118240722.0  los_angeles  \n",
       "4            1950  6037         2962  34145202.0 -118179824.0  los_angeles  \n",
       "...           ...   ...          ...         ...          ...          ...  \n",
       "52436        1962  6037         1633  33870815.0 -118070858.0  los_angeles  \n",
       "52437        1940  6037         1286  34245368.0 -118282383.0  los_angeles  \n",
       "52438        1964  6111         1612  34300140.0 -118706327.0      ventura  \n",
       "52439        1954  6037         1032  34040895.0 -118038169.0  los_angeles  \n",
       "52440        1955  6037         1762  33937685.0 -117996709.0  los_angeles  \n",
       "\n",
       "[47981 rows x 12 columns]"
      ]
     },
     "execution_count": 14,
     "metadata": {},
     "output_type": "execute_result"
    }
   ],
   "source": [
    "df"
   ]
  },
  {
   "cell_type": "code",
   "execution_count": 15,
   "id": "c2ee7260",
   "metadata": {},
   "outputs": [
    {
     "data": {
      "text/plain": [
       "0.9149520413416983"
      ]
     },
     "execution_count": 15,
     "metadata": {},
     "output_type": "execute_result"
    }
   ],
   "source": [
    "47981/52441\n",
    "#how much data do we still have after wrangling?"
   ]
  },
  {
   "cell_type": "code",
   "execution_count": 16,
   "id": "c2afc448",
   "metadata": {},
   "outputs": [
    {
     "data": {
      "text/plain": [
       "47884"
      ]
     },
     "execution_count": 16,
     "metadata": {},
     "output_type": "execute_result"
    }
   ],
   "source": [
    "df.parcelid.nunique()"
   ]
  },
  {
   "cell_type": "code",
   "execution_count": 17,
   "id": "b3974d12",
   "metadata": {},
   "outputs": [],
   "source": [
    "First_Date = df.groupby('parcelid')['transaction_date'].first().reset_index()"
   ]
  },
  {
   "cell_type": "code",
   "execution_count": 19,
   "id": "b694fdb3",
   "metadata": {},
   "outputs": [
    {
     "data": {
      "text/html": [
       "<div>\n",
       "<style scoped>\n",
       "    .dataframe tbody tr th:only-of-type {\n",
       "        vertical-align: middle;\n",
       "    }\n",
       "\n",
       "    .dataframe tbody tr th {\n",
       "        vertical-align: top;\n",
       "    }\n",
       "\n",
       "    .dataframe thead th {\n",
       "        text-align: right;\n",
       "    }\n",
       "</style>\n",
       "<table border=\"1\" class=\"dataframe\">\n",
       "  <thead>\n",
       "    <tr style=\"text-align: right;\">\n",
       "      <th></th>\n",
       "      <th>parcelid</th>\n",
       "      <th>transaction_date</th>\n",
       "    </tr>\n",
       "  </thead>\n",
       "  <tbody>\n",
       "    <tr>\n",
       "      <th>0</th>\n",
       "      <td>10711855</td>\n",
       "      <td>2017-07-07</td>\n",
       "    </tr>\n",
       "    <tr>\n",
       "      <th>1</th>\n",
       "      <td>10711877</td>\n",
       "      <td>2017-08-29</td>\n",
       "    </tr>\n",
       "    <tr>\n",
       "      <th>2</th>\n",
       "      <td>10711888</td>\n",
       "      <td>2017-04-04</td>\n",
       "    </tr>\n",
       "    <tr>\n",
       "      <th>3</th>\n",
       "      <td>10711910</td>\n",
       "      <td>2017-03-17</td>\n",
       "    </tr>\n",
       "    <tr>\n",
       "      <th>4</th>\n",
       "      <td>10711923</td>\n",
       "      <td>2017-03-24</td>\n",
       "    </tr>\n",
       "    <tr>\n",
       "      <th>...</th>\n",
       "      <td>...</td>\n",
       "      <td>...</td>\n",
       "    </tr>\n",
       "    <tr>\n",
       "      <th>47879</th>\n",
       "      <td>167636726</td>\n",
       "      <td>2017-08-31</td>\n",
       "    </tr>\n",
       "    <tr>\n",
       "      <th>47880</th>\n",
       "      <td>167636727</td>\n",
       "      <td>2017-07-07</td>\n",
       "    </tr>\n",
       "    <tr>\n",
       "      <th>47881</th>\n",
       "      <td>167637054</td>\n",
       "      <td>2017-01-19</td>\n",
       "    </tr>\n",
       "    <tr>\n",
       "      <th>47882</th>\n",
       "      <td>167638003</td>\n",
       "      <td>2017-06-14</td>\n",
       "    </tr>\n",
       "    <tr>\n",
       "      <th>47883</th>\n",
       "      <td>167639152</td>\n",
       "      <td>2017-05-12</td>\n",
       "    </tr>\n",
       "  </tbody>\n",
       "</table>\n",
       "<p>47884 rows × 2 columns</p>\n",
       "</div>"
      ],
      "text/plain": [
       "        parcelid transaction_date\n",
       "0       10711855       2017-07-07\n",
       "1       10711877       2017-08-29\n",
       "2       10711888       2017-04-04\n",
       "3       10711910       2017-03-17\n",
       "4       10711923       2017-03-24\n",
       "...          ...              ...\n",
       "47879  167636726       2017-08-31\n",
       "47880  167636727       2017-07-07\n",
       "47881  167637054       2017-01-19\n",
       "47882  167638003       2017-06-14\n",
       "47883  167639152       2017-05-12\n",
       "\n",
       "[47884 rows x 2 columns]"
      ]
     },
     "execution_count": 19,
     "metadata": {},
     "output_type": "execute_result"
    }
   ],
   "source": [
    "First_Date"
   ]
  },
  {
   "cell_type": "code",
   "execution_count": 22,
   "id": "b8d2d4ec",
   "metadata": {},
   "outputs": [
    {
     "data": {
      "text/html": [
       "<div>\n",
       "<style scoped>\n",
       "    .dataframe tbody tr th:only-of-type {\n",
       "        vertical-align: middle;\n",
       "    }\n",
       "\n",
       "    .dataframe tbody tr th {\n",
       "        vertical-align: top;\n",
       "    }\n",
       "\n",
       "    .dataframe thead th {\n",
       "        text-align: right;\n",
       "    }\n",
       "</style>\n",
       "<table border=\"1\" class=\"dataframe\">\n",
       "  <thead>\n",
       "    <tr style=\"text-align: right;\">\n",
       "      <th></th>\n",
       "      <th>parcelid</th>\n",
       "      <th>log_error</th>\n",
       "      <th>transaction_date</th>\n",
       "      <th>tax_value</th>\n",
       "      <th>bedrooms</th>\n",
       "      <th>bathrooms</th>\n",
       "      <th>year_built</th>\n",
       "      <th>fips</th>\n",
       "      <th>square_feet</th>\n",
       "      <th>latitude</th>\n",
       "      <th>longitude</th>\n",
       "      <th>county</th>\n",
       "    </tr>\n",
       "  </thead>\n",
       "  <tbody>\n",
       "    <tr>\n",
       "      <th>0</th>\n",
       "      <td>14297519</td>\n",
       "      <td>0.025595</td>\n",
       "      <td>2017-01-01</td>\n",
       "      <td>1023282</td>\n",
       "      <td>4.0</td>\n",
       "      <td>3.5</td>\n",
       "      <td>1998</td>\n",
       "      <td>6059</td>\n",
       "      <td>3100</td>\n",
       "      <td>33634931.0</td>\n",
       "      <td>-117869207.0</td>\n",
       "      <td>orange</td>\n",
       "    </tr>\n",
       "    <tr>\n",
       "      <th>1</th>\n",
       "      <td>17052889</td>\n",
       "      <td>0.055619</td>\n",
       "      <td>2017-01-01</td>\n",
       "      <td>464000</td>\n",
       "      <td>2.0</td>\n",
       "      <td>1.0</td>\n",
       "      <td>1967</td>\n",
       "      <td>6111</td>\n",
       "      <td>1465</td>\n",
       "      <td>34449266.0</td>\n",
       "      <td>-119281531.0</td>\n",
       "      <td>ventura</td>\n",
       "    </tr>\n",
       "    <tr>\n",
       "      <th>2</th>\n",
       "      <td>14186244</td>\n",
       "      <td>0.005383</td>\n",
       "      <td>2017-01-01</td>\n",
       "      <td>564778</td>\n",
       "      <td>3.0</td>\n",
       "      <td>2.0</td>\n",
       "      <td>1962</td>\n",
       "      <td>6059</td>\n",
       "      <td>1243</td>\n",
       "      <td>33886168.0</td>\n",
       "      <td>-117823170.0</td>\n",
       "      <td>orange</td>\n",
       "    </tr>\n",
       "    <tr>\n",
       "      <th>3</th>\n",
       "      <td>12177905</td>\n",
       "      <td>-0.103410</td>\n",
       "      <td>2017-01-01</td>\n",
       "      <td>145143</td>\n",
       "      <td>4.0</td>\n",
       "      <td>3.0</td>\n",
       "      <td>1970</td>\n",
       "      <td>6037</td>\n",
       "      <td>2376</td>\n",
       "      <td>34245180.0</td>\n",
       "      <td>-118240722.0</td>\n",
       "      <td>los_angeles</td>\n",
       "    </tr>\n",
       "    <tr>\n",
       "      <th>4</th>\n",
       "      <td>12095076</td>\n",
       "      <td>-0.001011</td>\n",
       "      <td>2017-01-01</td>\n",
       "      <td>773303</td>\n",
       "      <td>4.0</td>\n",
       "      <td>3.0</td>\n",
       "      <td>1950</td>\n",
       "      <td>6037</td>\n",
       "      <td>2962</td>\n",
       "      <td>34145202.0</td>\n",
       "      <td>-118179824.0</td>\n",
       "      <td>los_angeles</td>\n",
       "    </tr>\n",
       "    <tr>\n",
       "      <th>...</th>\n",
       "      <td>...</td>\n",
       "      <td>...</td>\n",
       "      <td>...</td>\n",
       "      <td>...</td>\n",
       "      <td>...</td>\n",
       "      <td>...</td>\n",
       "      <td>...</td>\n",
       "      <td>...</td>\n",
       "      <td>...</td>\n",
       "      <td>...</td>\n",
       "      <td>...</td>\n",
       "      <td>...</td>\n",
       "    </tr>\n",
       "    <tr>\n",
       "      <th>52436</th>\n",
       "      <td>12412492</td>\n",
       "      <td>0.001082</td>\n",
       "      <td>2017-09-19</td>\n",
       "      <td>346534</td>\n",
       "      <td>4.0</td>\n",
       "      <td>2.0</td>\n",
       "      <td>1962</td>\n",
       "      <td>6037</td>\n",
       "      <td>1633</td>\n",
       "      <td>33870815.0</td>\n",
       "      <td>-118070858.0</td>\n",
       "      <td>los_angeles</td>\n",
       "    </tr>\n",
       "    <tr>\n",
       "      <th>52437</th>\n",
       "      <td>11000655</td>\n",
       "      <td>0.020615</td>\n",
       "      <td>2017-09-20</td>\n",
       "      <td>354621</td>\n",
       "      <td>2.0</td>\n",
       "      <td>2.0</td>\n",
       "      <td>1940</td>\n",
       "      <td>6037</td>\n",
       "      <td>1286</td>\n",
       "      <td>34245368.0</td>\n",
       "      <td>-118282383.0</td>\n",
       "      <td>los_angeles</td>\n",
       "    </tr>\n",
       "    <tr>\n",
       "      <th>52438</th>\n",
       "      <td>17239384</td>\n",
       "      <td>0.013209</td>\n",
       "      <td>2017-09-21</td>\n",
       "      <td>67205</td>\n",
       "      <td>4.0</td>\n",
       "      <td>2.0</td>\n",
       "      <td>1964</td>\n",
       "      <td>6111</td>\n",
       "      <td>1612</td>\n",
       "      <td>34300140.0</td>\n",
       "      <td>-118706327.0</td>\n",
       "      <td>ventura</td>\n",
       "    </tr>\n",
       "    <tr>\n",
       "      <th>52439</th>\n",
       "      <td>12773139</td>\n",
       "      <td>0.037129</td>\n",
       "      <td>2017-09-21</td>\n",
       "      <td>49546</td>\n",
       "      <td>3.0</td>\n",
       "      <td>1.0</td>\n",
       "      <td>1954</td>\n",
       "      <td>6037</td>\n",
       "      <td>1032</td>\n",
       "      <td>34040895.0</td>\n",
       "      <td>-118038169.0</td>\n",
       "      <td>los_angeles</td>\n",
       "    </tr>\n",
       "    <tr>\n",
       "      <th>52440</th>\n",
       "      <td>12826780</td>\n",
       "      <td>0.007204</td>\n",
       "      <td>2017-09-25</td>\n",
       "      <td>522000</td>\n",
       "      <td>3.0</td>\n",
       "      <td>2.0</td>\n",
       "      <td>1955</td>\n",
       "      <td>6037</td>\n",
       "      <td>1762</td>\n",
       "      <td>33937685.0</td>\n",
       "      <td>-117996709.0</td>\n",
       "      <td>los_angeles</td>\n",
       "    </tr>\n",
       "  </tbody>\n",
       "</table>\n",
       "<p>47981 rows × 12 columns</p>\n",
       "</div>"
      ],
      "text/plain": [
       "       parcelid  log_error transaction_date  tax_value  bedrooms  bathrooms  \\\n",
       "0      14297519   0.025595       2017-01-01    1023282       4.0        3.5   \n",
       "1      17052889   0.055619       2017-01-01     464000       2.0        1.0   \n",
       "2      14186244   0.005383       2017-01-01     564778       3.0        2.0   \n",
       "3      12177905  -0.103410       2017-01-01     145143       4.0        3.0   \n",
       "4      12095076  -0.001011       2017-01-01     773303       4.0        3.0   \n",
       "...         ...        ...              ...        ...       ...        ...   \n",
       "52436  12412492   0.001082       2017-09-19     346534       4.0        2.0   \n",
       "52437  11000655   0.020615       2017-09-20     354621       2.0        2.0   \n",
       "52438  17239384   0.013209       2017-09-21      67205       4.0        2.0   \n",
       "52439  12773139   0.037129       2017-09-21      49546       3.0        1.0   \n",
       "52440  12826780   0.007204       2017-09-25     522000       3.0        2.0   \n",
       "\n",
       "       year_built  fips  square_feet    latitude    longitude       county  \n",
       "0            1998  6059         3100  33634931.0 -117869207.0       orange  \n",
       "1            1967  6111         1465  34449266.0 -119281531.0      ventura  \n",
       "2            1962  6059         1243  33886168.0 -117823170.0       orange  \n",
       "3            1970  6037         2376  34245180.0 -118240722.0  los_angeles  \n",
       "4            1950  6037         2962  34145202.0 -118179824.0  los_angeles  \n",
       "...           ...   ...          ...         ...          ...          ...  \n",
       "52436        1962  6037         1633  33870815.0 -118070858.0  los_angeles  \n",
       "52437        1940  6037         1286  34245368.0 -118282383.0  los_angeles  \n",
       "52438        1964  6111         1612  34300140.0 -118706327.0      ventura  \n",
       "52439        1954  6037         1032  34040895.0 -118038169.0  los_angeles  \n",
       "52440        1955  6037         1762  33937685.0 -117996709.0  los_angeles  \n",
       "\n",
       "[47981 rows x 12 columns]"
      ]
     },
     "execution_count": 22,
     "metadata": {},
     "output_type": "execute_result"
    }
   ],
   "source": [
    "df"
   ]
  },
  {
   "cell_type": "code",
   "execution_count": 24,
   "id": "9b965ae6",
   "metadata": {},
   "outputs": [],
   "source": [
    "df = pd.merge(First_Date, df, on=['parcelid', 'transaction_date'], how='left')"
   ]
  },
  {
   "cell_type": "code",
   "execution_count": 37,
   "id": "775fa776",
   "metadata": {},
   "outputs": [
    {
     "data": {
      "text/plain": [
       "Timestamp('2017-01-01 00:00:00')"
      ]
     },
     "execution_count": 37,
     "metadata": {},
     "output_type": "execute_result"
    }
   ],
   "source": [
    "df.transaction_date.min()"
   ]
  },
  {
   "cell_type": "code",
   "execution_count": 38,
   "id": "608017b3",
   "metadata": {},
   "outputs": [
    {
     "name": "stdout",
     "output_type": "stream",
     "text": [
      "<class 'pandas.core.frame.DataFrame'>\n",
      "Int64Index: 47884 entries, 0 to 47883\n",
      "Data columns (total 12 columns):\n",
      " #   Column            Non-Null Count  Dtype         \n",
      "---  ------            --------------  -----         \n",
      " 0   parcelid          47884 non-null  int64         \n",
      " 1   transaction_date  47884 non-null  datetime64[ns]\n",
      " 2   log_error         47884 non-null  float64       \n",
      " 3   tax_value         47884 non-null  int64         \n",
      " 4   bedrooms          47884 non-null  float64       \n",
      " 5   bathrooms         47884 non-null  float64       \n",
      " 6   year_built        47884 non-null  int64         \n",
      " 7   fips              47884 non-null  int64         \n",
      " 8   square_feet       47884 non-null  int64         \n",
      " 9   latitude          47884 non-null  float64       \n",
      " 10  longitude         47884 non-null  float64       \n",
      " 11  county            47884 non-null  object        \n",
      "dtypes: datetime64[ns](1), float64(5), int64(5), object(1)\n",
      "memory usage: 4.7+ MB\n"
     ]
    }
   ],
   "source": [
    "df.info()"
   ]
  },
  {
   "cell_type": "code",
   "execution_count": 39,
   "id": "9cae94f4",
   "metadata": {},
   "outputs": [
    {
     "name": "stdout",
     "output_type": "stream",
     "text": [
      "train observations:  321768\n",
      "validate observations:  137916\n",
      "test observations:  114924\n"
     ]
    }
   ],
   "source": [
    "train_validate, test = train_test_split(df, test_size=.2, \n",
    "                                        random_state=123)\n",
    "\n",
    "train, validate = train_test_split(train_validate, test_size=.3, \n",
    "                                   random_state=123)\n",
    "\n",
    "print(\"train observations: \", train.size)\n",
    "print(\"validate observations: \", validate.size)\n",
    "print(\"test observations: \", test.size)"
   ]
  },
  {
   "cell_type": "markdown",
   "id": "7a644969",
   "metadata": {},
   "source": [
    "- what are the key drivers of log error?\n",
    "- does binning data by square feet strengthen correlations?"
   ]
  },
  {
   "cell_type": "code",
   "execution_count": 41,
   "id": "bdf9f834",
   "metadata": {},
   "outputs": [
    {
     "data": {
      "text/plain": [
       "<AxesSubplot:title={'center':'Feature Correlation (contiuous variables) of to Log Error'}>"
      ]
     },
     "execution_count": 41,
     "metadata": {},
     "output_type": "execute_result"
    },
    {
     "data": {
      "image/png": "[encoded data removed]",
      "text/plain": [
       "<Figure size 720x288 with 1 Axes>"
      ]
     },
     "metadata": {
      "needs_background": "light"
     },
     "output_type": "display_data"
    }
   ],
   "source": [
    "plt.figure(figsize=(10, 4))\n",
    "# sets the size of the graph\n",
    "plt.title(\"Feature Correlation (contiuous variables) of to Log Error\")\n",
    "corr_chart = train.drop(['tax_value', 'fips', 'parcelid', 'log_error', 'longitude', 'latitude'], axis=1).corrwith(train['log_error']).sort_values().plot.barh()\n",
    "corr_chart"
   ]
  },
  {
   "cell_type": "code",
   "execution_count": 46,
   "id": "8777bcae",
   "metadata": {},
   "outputs": [
    {
     "data": {
      "image/png": "[encoded data removed]",
      "text/plain": [
       "<Figure size 432x288 with 1 Axes>"
      ]
     },
     "metadata": {
      "needs_background": "light"
     },
     "output_type": "display_data"
    }
   ],
   "source": [
    "figsize = (8, 6)\n",
    "\n",
    "sns.boxplot(data=train.square_feet,  orient='v').set(title = 'Size')\n",
    "\n",
    "plt.show()"
   ]
  },
  {
   "cell_type": "code",
   "execution_count": 51,
   "id": "59c408ea",
   "metadata": {},
   "outputs": [],
   "source": [
    "train['sqlow'] = train.square_feet < 1700\n",
    "train['sqmed']= (train.square_feet > 1700) & (train.square_feet < 2100)\n",
    "train['sqhigh'] = train.square_feet >= 2100"
   ]
  },
  {
   "cell_type": "code",
   "execution_count": 54,
   "id": "fcdec9e7",
   "metadata": {},
   "outputs": [
    {
     "data": {
      "text/plain": [
       "<AxesSubplot:title={'center':'Feature Correlation (contiuous variables) of to Log Error'}>"
      ]
     },
     "execution_count": 54,
     "metadata": {},
     "output_type": "execute_result"
    },
    {
     "data": {
      "image/png": "[encoded data removed]",
      "text/plain": [
       "<Figure size 720x288 with 1 Axes>"
      ]
     },
     "metadata": {
      "needs_background": "light"
     },
     "output_type": "display_data"
    }
   ],
   "source": [
    "plt.figure(figsize=(10, 4))\n",
    "# sets the size of the graph\n",
    "plt.title(\"Feature Correlation (contiuous variables) of to Log Error\")\n",
    "corr_chart = train.drop(['tax_value', 'fips', 'parcelid', 'log_error', 'longitude', 'latitude'], axis=1).corrwith(train['log_error']).sort_values().plot.barh()\n",
    "corr_chart"
   ]
  },
  {
   "cell_type": "code",
   "execution_count": null,
   "id": "d8d19aa0",
   "metadata": {},
   "outputs": [],
   "source": []
  }
 ],
 "metadata": {
  "kernelspec": {
   "display_name": "Python 3 (ipykernel)",
   "language": "python",
   "name": "python3"
  },
  "language_info": {
   "codemirror_mode": {
    "name": "ipython",
    "version": 3
   },
   "file_extension": ".py",
   "mimetype": "text/x-python",
   "name": "python",
   "nbconvert_exporter": "python",
   "pygments_lexer": "ipython3",
   "version": "3.9.7"
  }
 },
 "nbformat": 4,
 "nbformat_minor": 5
}
